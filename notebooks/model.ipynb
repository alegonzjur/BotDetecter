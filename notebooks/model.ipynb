{
 "cells": [
  {
   "cell_type": "markdown",
   "id": "9d43c301",
   "metadata": {},
   "source": [
    "## Loading & data preparation"
   ]
  },
  {
   "cell_type": "markdown",
   "id": "acaee959",
   "metadata": {},
   "source": [
    "After getting the csv & json files, i will start developing the model. First, I'm going to load both files."
   ]
  },
  {
   "cell_type": "code",
   "execution_count": 2,
   "id": "63aaf0f3",
   "metadata": {},
   "outputs": [],
   "source": [
    "# Libraries needed.\n",
    "import pandas as pd\n",
    "import json\n",
    "\n",
    "# Loading the csv.\n",
    "df = pd.read_csv('../data/bot_df.csv')\n",
    "df['user_id'] = df['user_id'].astype(str)\n",
    "\n",
    "# Loading tweets & metadata from JSON file.\n",
    "with open('../data/bot_tweets.json', 'r', encoding='utf-8') as f:\n",
    "    tweets_data = json.load(f)"
   ]
  },
  {
   "cell_type": "markdown",
   "id": "e9475b80",
   "metadata": {},
   "source": [
    "Checking that it worked."
   ]
  },
  {
   "cell_type": "code",
   "execution_count": 4,
   "id": "4ea0a675",
   "metadata": {},
   "outputs": [
    {
     "data": {
      "text/html": [
       "<div>\n",
       "<style scoped>\n",
       "    .dataframe tbody tr th:only-of-type {\n",
       "        vertical-align: middle;\n",
       "    }\n",
       "\n",
       "    .dataframe tbody tr th {\n",
       "        vertical-align: top;\n",
       "    }\n",
       "\n",
       "    .dataframe thead th {\n",
       "        text-align: right;\n",
       "    }\n",
       "</style>\n",
       "<table border=\"1\" class=\"dataframe\">\n",
       "  <thead>\n",
       "    <tr style=\"text-align: right;\">\n",
       "      <th></th>\n",
       "      <th>user_id</th>\n",
       "      <th>label</th>\n",
       "    </tr>\n",
       "  </thead>\n",
       "  <tbody>\n",
       "    <tr>\n",
       "      <th>0</th>\n",
       "      <td>2718436417</td>\n",
       "      <td>human</td>\n",
       "    </tr>\n",
       "    <tr>\n",
       "      <th>1</th>\n",
       "      <td>792615528791703553</td>\n",
       "      <td>human</td>\n",
       "    </tr>\n",
       "    <tr>\n",
       "      <th>2</th>\n",
       "      <td>3287012484</td>\n",
       "      <td>human</td>\n",
       "    </tr>\n",
       "    <tr>\n",
       "      <th>3</th>\n",
       "      <td>93816184</td>\n",
       "      <td>human</td>\n",
       "    </tr>\n",
       "    <tr>\n",
       "      <th>4</th>\n",
       "      <td>754884880996020225</td>\n",
       "      <td>bot</td>\n",
       "    </tr>\n",
       "  </tbody>\n",
       "</table>\n",
       "</div>"
      ],
      "text/plain": [
       "              user_id  label\n",
       "0          2718436417  human\n",
       "1  792615528791703553  human\n",
       "2          3287012484  human\n",
       "3            93816184  human\n",
       "4  754884880996020225    bot"
      ]
     },
     "execution_count": 4,
     "metadata": {},
     "output_type": "execute_result"
    }
   ],
   "source": [
    "df.head()"
   ]
  },
  {
   "cell_type": "code",
   "execution_count": 5,
   "id": "08ce4075",
   "metadata": {},
   "outputs": [
    {
     "name": "stdout",
     "output_type": "stream",
     "text": [
      "<class 'pandas.core.frame.DataFrame'>\n",
      "RangeIndex: 529 entries, 0 to 528\n",
      "Data columns (total 2 columns):\n",
      " #   Column   Non-Null Count  Dtype \n",
      "---  ------   --------------  ----- \n",
      " 0   user_id  529 non-null    object\n",
      " 1   label    529 non-null    object\n",
      "dtypes: object(2)\n",
      "memory usage: 8.4+ KB\n"
     ]
    }
   ],
   "source": [
    "df.info()"
   ]
  },
  {
   "cell_type": "code",
   "execution_count": 9,
   "id": "ece9665d",
   "metadata": {},
   "outputs": [
    {
     "name": "stdout",
     "output_type": "stream",
     "text": [
      "<class 'list'>\n"
     ]
    }
   ],
   "source": [
    "print(type(tweets_data)) "
   ]
  },
  {
   "cell_type": "markdown",
   "id": "84044fff",
   "metadata": {},
   "source": [
    "I need the info of the JSON file on a dataframe to put it all together.\n",
    "\n",
    "JSON file is structured as a list. I need a dictionary, therefore i will create with defaultdict."
   ]
  },
  {
   "cell_type": "code",
   "execution_count": 10,
   "id": "c4416776",
   "metadata": {},
   "outputs": [],
   "source": [
    "from collections import defaultdict\n",
    "\n",
    "user_tweet_map = defaultdict(list)"
   ]
  },
  {
   "cell_type": "markdown",
   "id": "f305c4cd",
   "metadata": {},
   "source": [
    "I'm grouping tweets with their users_id."
   ]
  },
  {
   "cell_type": "code",
   "execution_count": 11,
   "id": "5b1a9277",
   "metadata": {},
   "outputs": [],
   "source": [
    "for tweet in tweets_data:\n",
    "    user_id = tweet['user']['id_str']\n",
    "    user_tweet_map[user_id].append(tweet)"
   ]
  },
  {
   "cell_type": "markdown",
   "id": "965eb249",
   "metadata": {},
   "source": [
    "Finally, I extract the data and insert it on a dataframe"
   ]
  },
  {
   "cell_type": "code",
   "execution_count": 12,
   "id": "3146c22b",
   "metadata": {},
   "outputs": [],
   "source": [
    "# Empty list of dicc.\n",
    "user_metadata = []\n",
    "\n",
    "for user_id, tweets in user_tweet_map.items():\n",
    "    if not tweets:\n",
    "        continue\n",
    "    user_profile = tweets[0]['user']\n",
    "    user_profile['user_id'] = user_id\n",
    "    user_metadata.append(user_profile)\n",
    "\n",
    "df_users = pd.DataFrame(user_metadata)"
   ]
  },
  {
   "cell_type": "code",
   "execution_count": 13,
   "id": "015c9a86",
   "metadata": {},
   "outputs": [
    {
     "data": {
      "text/html": [
       "<div>\n",
       "<style scoped>\n",
       "    .dataframe tbody tr th:only-of-type {\n",
       "        vertical-align: middle;\n",
       "    }\n",
       "\n",
       "    .dataframe tbody tr th {\n",
       "        vertical-align: top;\n",
       "    }\n",
       "\n",
       "    .dataframe thead th {\n",
       "        text-align: right;\n",
       "    }\n",
       "</style>\n",
       "<table border=\"1\" class=\"dataframe\">\n",
       "  <thead>\n",
       "    <tr style=\"text-align: right;\">\n",
       "      <th></th>\n",
       "      <th>follow_request_sent</th>\n",
       "      <th>has_extended_profile</th>\n",
       "      <th>profile_use_background_image</th>\n",
       "      <th>default_profile_image</th>\n",
       "      <th>id</th>\n",
       "      <th>profile_background_image_url_https</th>\n",
       "      <th>verified</th>\n",
       "      <th>translator_type</th>\n",
       "      <th>profile_text_color</th>\n",
       "      <th>profile_image_url_https</th>\n",
       "      <th>...</th>\n",
       "      <th>name</th>\n",
       "      <th>notifications</th>\n",
       "      <th>url</th>\n",
       "      <th>created_at</th>\n",
       "      <th>contributors_enabled</th>\n",
       "      <th>time_zone</th>\n",
       "      <th>protected</th>\n",
       "      <th>default_profile</th>\n",
       "      <th>is_translator</th>\n",
       "      <th>user_id</th>\n",
       "    </tr>\n",
       "  </thead>\n",
       "  <tbody>\n",
       "    <tr>\n",
       "      <th>0</th>\n",
       "      <td>False</td>\n",
       "      <td>False</td>\n",
       "      <td>False</td>\n",
       "      <td>False</td>\n",
       "      <td>602249341</td>\n",
       "      <td>https://abs.twimg.com/images/themes/theme4/bg.gif</td>\n",
       "      <td>False</td>\n",
       "      <td>none</td>\n",
       "      <td>000000</td>\n",
       "      <td>https://pbs.twimg.com/profile_images/923924342...</td>\n",
       "      <td>...</td>\n",
       "      <td>Emma Dingle🐧🏳️‍🌈🇪🇺🇬🇧🏴🤓</td>\n",
       "      <td>False</td>\n",
       "      <td>https://t.co/e5t6p9w7D8</td>\n",
       "      <td>Thu Jun 07 22:16:27 +0000 2012</td>\n",
       "      <td>False</td>\n",
       "      <td>London</td>\n",
       "      <td>False</td>\n",
       "      <td>False</td>\n",
       "      <td>False</td>\n",
       "      <td>602249341</td>\n",
       "    </tr>\n",
       "    <tr>\n",
       "      <th>1</th>\n",
       "      <td>False</td>\n",
       "      <td>True</td>\n",
       "      <td>False</td>\n",
       "      <td>False</td>\n",
       "      <td>797617218511060992</td>\n",
       "      <td>https://abs.twimg.com/images/themes/theme1/bg.png</td>\n",
       "      <td>False</td>\n",
       "      <td>none</td>\n",
       "      <td>000000</td>\n",
       "      <td>https://pbs.twimg.com/profile_images/855244571...</td>\n",
       "      <td>...</td>\n",
       "      <td>Wolverine 2018💥</td>\n",
       "      <td>False</td>\n",
       "      <td>None</td>\n",
       "      <td>Sun Nov 13 01:48:58 +0000 2016</td>\n",
       "      <td>False</td>\n",
       "      <td>Pacific Time (US &amp; Canada)</td>\n",
       "      <td>False</td>\n",
       "      <td>False</td>\n",
       "      <td>False</td>\n",
       "      <td>797617218511060992</td>\n",
       "    </tr>\n",
       "    <tr>\n",
       "      <th>2</th>\n",
       "      <td>False</td>\n",
       "      <td>False</td>\n",
       "      <td>True</td>\n",
       "      <td>False</td>\n",
       "      <td>889925474</td>\n",
       "      <td>https://pbs.twimg.com/profile_background_image...</td>\n",
       "      <td>False</td>\n",
       "      <td>none</td>\n",
       "      <td>333333</td>\n",
       "      <td>https://pbs.twimg.com/profile_images/964079832...</td>\n",
       "      <td>...</td>\n",
       "      <td>Rob Palm Whistler</td>\n",
       "      <td>False</td>\n",
       "      <td>http://t.co/7gh2Iu1AT4</td>\n",
       "      <td>Thu Oct 18 23:19:38 +0000 2012</td>\n",
       "      <td>False</td>\n",
       "      <td>None</td>\n",
       "      <td>False</td>\n",
       "      <td>False</td>\n",
       "      <td>False</td>\n",
       "      <td>889925474</td>\n",
       "    </tr>\n",
       "    <tr>\n",
       "      <th>3</th>\n",
       "      <td>False</td>\n",
       "      <td>True</td>\n",
       "      <td>True</td>\n",
       "      <td>False</td>\n",
       "      <td>96435556</td>\n",
       "      <td>https://abs.twimg.com/images/themes/theme6/bg.gif</td>\n",
       "      <td>False</td>\n",
       "      <td>none</td>\n",
       "      <td>333333</td>\n",
       "      <td>https://pbs.twimg.com/profile_images/311429969...</td>\n",
       "      <td>...</td>\n",
       "      <td>Mariano</td>\n",
       "      <td>False</td>\n",
       "      <td>None</td>\n",
       "      <td>Sat Dec 12 22:53:04 +0000 2009</td>\n",
       "      <td>False</td>\n",
       "      <td>Rome</td>\n",
       "      <td>False</td>\n",
       "      <td>False</td>\n",
       "      <td>False</td>\n",
       "      <td>96435556</td>\n",
       "    </tr>\n",
       "    <tr>\n",
       "      <th>4</th>\n",
       "      <td>False</td>\n",
       "      <td>False</td>\n",
       "      <td>True</td>\n",
       "      <td>False</td>\n",
       "      <td>16905397</td>\n",
       "      <td>https://pbs.twimg.com/profile_background_image...</td>\n",
       "      <td>False</td>\n",
       "      <td>regular</td>\n",
       "      <td>666666</td>\n",
       "      <td>https://pbs.twimg.com/profile_images/969705141...</td>\n",
       "      <td>...</td>\n",
       "      <td>Torsten Larbig</td>\n",
       "      <td>False</td>\n",
       "      <td>https://t.co/VRgsX8eVR2</td>\n",
       "      <td>Wed Oct 22 13:43:42 +0000 2008</td>\n",
       "      <td>False</td>\n",
       "      <td>Bern</td>\n",
       "      <td>False</td>\n",
       "      <td>False</td>\n",
       "      <td>False</td>\n",
       "      <td>16905397</td>\n",
       "    </tr>\n",
       "  </tbody>\n",
       "</table>\n",
       "<p>5 rows × 43 columns</p>\n",
       "</div>"
      ],
      "text/plain": [
       "   follow_request_sent  has_extended_profile  profile_use_background_image  \\\n",
       "0                False                 False                         False   \n",
       "1                False                  True                         False   \n",
       "2                False                 False                          True   \n",
       "3                False                  True                          True   \n",
       "4                False                 False                          True   \n",
       "\n",
       "   default_profile_image                  id  \\\n",
       "0                  False           602249341   \n",
       "1                  False  797617218511060992   \n",
       "2                  False           889925474   \n",
       "3                  False            96435556   \n",
       "4                  False            16905397   \n",
       "\n",
       "                  profile_background_image_url_https  verified  \\\n",
       "0  https://abs.twimg.com/images/themes/theme4/bg.gif     False   \n",
       "1  https://abs.twimg.com/images/themes/theme1/bg.png     False   \n",
       "2  https://pbs.twimg.com/profile_background_image...     False   \n",
       "3  https://abs.twimg.com/images/themes/theme6/bg.gif     False   \n",
       "4  https://pbs.twimg.com/profile_background_image...     False   \n",
       "\n",
       "  translator_type profile_text_color  \\\n",
       "0            none             000000   \n",
       "1            none             000000   \n",
       "2            none             333333   \n",
       "3            none             333333   \n",
       "4         regular             666666   \n",
       "\n",
       "                             profile_image_url_https  ...  \\\n",
       "0  https://pbs.twimg.com/profile_images/923924342...  ...   \n",
       "1  https://pbs.twimg.com/profile_images/855244571...  ...   \n",
       "2  https://pbs.twimg.com/profile_images/964079832...  ...   \n",
       "3  https://pbs.twimg.com/profile_images/311429969...  ...   \n",
       "4  https://pbs.twimg.com/profile_images/969705141...  ...   \n",
       "\n",
       "                     name notifications                      url  \\\n",
       "0  Emma Dingle🐧🏳️‍🌈🇪🇺🇬🇧🏴🤓         False  https://t.co/e5t6p9w7D8   \n",
       "1         Wolverine 2018💥         False                     None   \n",
       "2       Rob Palm Whistler         False   http://t.co/7gh2Iu1AT4   \n",
       "3                 Mariano         False                     None   \n",
       "4          Torsten Larbig         False  https://t.co/VRgsX8eVR2   \n",
       "\n",
       "                       created_at contributors_enabled  \\\n",
       "0  Thu Jun 07 22:16:27 +0000 2012                False   \n",
       "1  Sun Nov 13 01:48:58 +0000 2016                False   \n",
       "2  Thu Oct 18 23:19:38 +0000 2012                False   \n",
       "3  Sat Dec 12 22:53:04 +0000 2009                False   \n",
       "4  Wed Oct 22 13:43:42 +0000 2008                False   \n",
       "\n",
       "                    time_zone  protected  default_profile  is_translator  \\\n",
       "0                      London      False            False          False   \n",
       "1  Pacific Time (US & Canada)      False            False          False   \n",
       "2                        None      False            False          False   \n",
       "3                        Rome      False            False          False   \n",
       "4                        Bern      False            False          False   \n",
       "\n",
       "              user_id  \n",
       "0           602249341  \n",
       "1  797617218511060992  \n",
       "2           889925474  \n",
       "3            96435556  \n",
       "4            16905397  \n",
       "\n",
       "[5 rows x 43 columns]"
      ]
     },
     "execution_count": 13,
     "metadata": {},
     "output_type": "execute_result"
    }
   ],
   "source": [
    "df_users.head()"
   ]
  },
  {
   "cell_type": "markdown",
   "id": "6a842eeb",
   "metadata": {},
   "source": [
    "Mixing all the info in a single dataframe"
   ]
  },
  {
   "cell_type": "code",
   "execution_count": 19,
   "id": "05bb4294",
   "metadata": {},
   "outputs": [
    {
     "name": "stdout",
     "output_type": "stream",
     "text": [
      "(519, 44)\n",
      "Name of all columns: Index(['user_id', 'label', 'follow_request_sent', 'has_extended_profile',\n",
      "       'profile_use_background_image', 'default_profile_image', 'id',\n",
      "       'profile_background_image_url_https', 'verified', 'translator_type',\n",
      "       'profile_text_color', 'profile_image_url_https',\n",
      "       'profile_sidebar_fill_color', 'entities', 'followers_count',\n",
      "       'profile_sidebar_border_color', 'id_str', 'profile_background_color',\n",
      "       'listed_count', 'is_translation_enabled', 'utc_offset',\n",
      "       'statuses_count', 'description', 'friends_count', 'location',\n",
      "       'profile_link_color', 'profile_image_url', 'following', 'geo_enabled',\n",
      "       'profile_banner_url', 'profile_background_image_url', 'screen_name',\n",
      "       'lang', 'profile_background_tile', 'favourites_count', 'name',\n",
      "       'notifications', 'url', 'created_at', 'contributors_enabled',\n",
      "       'time_zone', 'protected', 'default_profile', 'is_translator'],\n",
      "      dtype='object')\n"
     ]
    },
    {
     "data": {
      "text/html": [
       "<div>\n",
       "<style scoped>\n",
       "    .dataframe tbody tr th:only-of-type {\n",
       "        vertical-align: middle;\n",
       "    }\n",
       "\n",
       "    .dataframe tbody tr th {\n",
       "        vertical-align: top;\n",
       "    }\n",
       "\n",
       "    .dataframe thead th {\n",
       "        text-align: right;\n",
       "    }\n",
       "</style>\n",
       "<table border=\"1\" class=\"dataframe\">\n",
       "  <thead>\n",
       "    <tr style=\"text-align: right;\">\n",
       "      <th></th>\n",
       "      <th>user_id</th>\n",
       "      <th>label</th>\n",
       "      <th>followers_count</th>\n",
       "      <th>friends_count</th>\n",
       "    </tr>\n",
       "  </thead>\n",
       "  <tbody>\n",
       "    <tr>\n",
       "      <th>0</th>\n",
       "      <td>2718436417</td>\n",
       "      <td>human</td>\n",
       "      <td>104</td>\n",
       "      <td>111</td>\n",
       "    </tr>\n",
       "    <tr>\n",
       "      <th>1</th>\n",
       "      <td>792615528791703553</td>\n",
       "      <td>human</td>\n",
       "      <td>43</td>\n",
       "      <td>104</td>\n",
       "    </tr>\n",
       "    <tr>\n",
       "      <th>2</th>\n",
       "      <td>3287012484</td>\n",
       "      <td>human</td>\n",
       "      <td>13146</td>\n",
       "      <td>4909</td>\n",
       "    </tr>\n",
       "    <tr>\n",
       "      <th>3</th>\n",
       "      <td>93816184</td>\n",
       "      <td>human</td>\n",
       "      <td>2264</td>\n",
       "      <td>483</td>\n",
       "    </tr>\n",
       "    <tr>\n",
       "      <th>4</th>\n",
       "      <td>754884880996020225</td>\n",
       "      <td>bot</td>\n",
       "      <td>5258</td>\n",
       "      <td>6228</td>\n",
       "    </tr>\n",
       "  </tbody>\n",
       "</table>\n",
       "</div>"
      ],
      "text/plain": [
       "              user_id  label  followers_count  friends_count\n",
       "0          2718436417  human              104            111\n",
       "1  792615528791703553  human               43            104\n",
       "2          3287012484  human            13146           4909\n",
       "3            93816184  human             2264            483\n",
       "4  754884880996020225    bot             5258           6228"
      ]
     },
     "execution_count": 19,
     "metadata": {},
     "output_type": "execute_result"
    }
   ],
   "source": [
    "df_full = pd.merge(df, df_users, on='user_id', how='inner')\n",
    "\n",
    "print(df_full.shape)\n",
    "print(f'Name of all columns: {df_full.columns}')\n",
    "df_full[['user_id','label','followers_count','friends_count']].head()\n"
   ]
  },
  {
   "cell_type": "markdown",
   "id": "4823c2b1",
   "metadata": {},
   "source": [
    "## Cleaning & validation\n",
    "\n",
    "Verifying if the dataframe has errors, like null, duplicated, or empty values."
   ]
  },
  {
   "cell_type": "code",
   "execution_count": 21,
   "id": "4db02a51",
   "metadata": {},
   "outputs": [],
   "source": [
    "# Dropping duplicated logs based on user_id.\n",
    "df_full = df_full.drop_duplicates(subset='user_id')"
   ]
  },
  {
   "cell_type": "code",
   "execution_count": 29,
   "id": "a8d3f681",
   "metadata": {},
   "outputs": [
    {
     "name": "stdout",
     "output_type": "stream",
     "text": [
      "Number of null values: 1103\n"
     ]
    },
    {
     "data": {
      "text/plain": [
       "url                                   318\n",
       "utc_offset                            210\n",
       "time_zone                             210\n",
       "profile_background_image_url_https    127\n",
       "profile_background_image_url          127\n",
       "profile_banner_url                    111\n",
       "default_profile_image                   0\n",
       "profile_use_background_image            0\n",
       "has_extended_profile                    0\n",
       "user_id                                 0\n",
       "dtype: int64"
      ]
     },
     "execution_count": 29,
     "metadata": {},
     "output_type": "execute_result"
    }
   ],
   "source": [
    "# Checking null values.\n",
    "print(f'Number of null values: {df_full.isna().sum().sum()}')\n",
    "df_full.isnull().sum().sort_values(ascending=False).head(10)"
   ]
  },
  {
   "cell_type": "markdown",
   "id": "8272fb64",
   "metadata": {},
   "source": [
    "Null values aren't in important columns."
   ]
  },
  {
   "cell_type": "code",
   "execution_count": 30,
   "id": "37d0ca52",
   "metadata": {},
   "outputs": [
    {
     "name": "stdout",
     "output_type": "stream",
     "text": [
      "<class 'pandas.core.frame.DataFrame'>\n",
      "Index: 518 entries, 0 to 518\n",
      "Data columns (total 44 columns):\n",
      " #   Column                              Non-Null Count  Dtype  \n",
      "---  ------                              --------------  -----  \n",
      " 0   user_id                             518 non-null    object \n",
      " 1   label                               518 non-null    object \n",
      " 2   follow_request_sent                 518 non-null    bool   \n",
      " 3   has_extended_profile                518 non-null    bool   \n",
      " 4   profile_use_background_image        518 non-null    bool   \n",
      " 5   default_profile_image               518 non-null    bool   \n",
      " 6   id                                  518 non-null    int64  \n",
      " 7   profile_background_image_url_https  391 non-null    object \n",
      " 8   verified                            518 non-null    bool   \n",
      " 9   translator_type                     518 non-null    object \n",
      " 10  profile_text_color                  518 non-null    object \n",
      " 11  profile_image_url_https             518 non-null    object \n",
      " 12  profile_sidebar_fill_color          518 non-null    object \n",
      " 13  entities                            518 non-null    object \n",
      " 14  followers_count                     518 non-null    int64  \n",
      " 15  profile_sidebar_border_color        518 non-null    object \n",
      " 16  id_str                              518 non-null    object \n",
      " 17  profile_background_color            518 non-null    object \n",
      " 18  listed_count                        518 non-null    int64  \n",
      " 19  is_translation_enabled              518 non-null    bool   \n",
      " 20  utc_offset                          308 non-null    float64\n",
      " 21  statuses_count                      518 non-null    int64  \n",
      " 22  description                         518 non-null    object \n",
      " 23  friends_count                       518 non-null    int64  \n",
      " 24  location                            518 non-null    object \n",
      " 25  profile_link_color                  518 non-null    object \n",
      " 26  profile_image_url                   518 non-null    object \n",
      " 27  following                           518 non-null    bool   \n",
      " 28  geo_enabled                         518 non-null    bool   \n",
      " 29  profile_banner_url                  407 non-null    object \n",
      " 30  profile_background_image_url        391 non-null    object \n",
      " 31  screen_name                         518 non-null    object \n",
      " 32  lang                                518 non-null    object \n",
      " 33  profile_background_tile             518 non-null    bool   \n",
      " 34  favourites_count                    518 non-null    int64  \n",
      " 35  name                                518 non-null    object \n",
      " 36  notifications                       518 non-null    bool   \n",
      " 37  url                                 200 non-null    object \n",
      " 38  created_at                          518 non-null    object \n",
      " 39  contributors_enabled                518 non-null    bool   \n",
      " 40  time_zone                           308 non-null    object \n",
      " 41  protected                           518 non-null    bool   \n",
      " 42  default_profile                     518 non-null    bool   \n",
      " 43  is_translator                       518 non-null    bool   \n",
      "dtypes: bool(14), float64(1), int64(6), object(23)\n",
      "memory usage: 132.5+ KB\n"
     ]
    }
   ],
   "source": [
    "df_full.info()"
   ]
  },
  {
   "cell_type": "markdown",
   "id": "47f2a025",
   "metadata": {},
   "source": [
    "'Created_At' columns is object type. Swapping to datetime."
   ]
  },
  {
   "cell_type": "code",
   "execution_count": 33,
   "id": "9a9605c5",
   "metadata": {},
   "outputs": [
    {
     "data": {
      "text/plain": [
       "datetime64[ns, UTC]"
      ]
     },
     "execution_count": 33,
     "metadata": {},
     "output_type": "execute_result"
    }
   ],
   "source": [
    "df_full['created_at'] = pd.to_datetime(df_full['created_at'], errors='coerce')\n",
    "# Checking it worked.\n",
    "df_full['created_at'].dtype"
   ]
  },
  {
   "cell_type": "markdown",
   "id": "c2f970ec",
   "metadata": {},
   "source": [
    "I think that everything has been loaded successfully, but i will check some important columns to prevent errors."
   ]
  },
  {
   "cell_type": "code",
   "execution_count": 34,
   "id": "655b41f4",
   "metadata": {},
   "outputs": [
    {
     "name": "stdout",
     "output_type": "stream",
     "text": [
      "int64\n",
      "int64\n",
      "int64\n",
      "int64\n",
      "int64\n"
     ]
    }
   ],
   "source": [
    "num_cols = ['followers_count', 'friends_count', 'statuses_count', 'listed_count', 'favourites_count']\n",
    "for n in num_cols:\n",
    "    print(f'{df_full[n].dtype}')"
   ]
  },
  {
   "cell_type": "markdown",
   "id": "5ded1601",
   "metadata": {},
   "source": [
    "Veryfing class balance"
   ]
  },
  {
   "cell_type": "code",
   "execution_count": 35,
   "id": "ac18e6be",
   "metadata": {},
   "outputs": [
    {
     "data": {
      "image/png": "[encoded data removed]",
      "text/plain": [
       "<Figure size 640x480 with 1 Axes>"
      ]
     },
     "metadata": {},
     "output_type": "display_data"
    }
   ],
   "source": [
    "import matplotlib.pyplot as plt  \n",
    "import seaborn as sns   \n",
    "\n",
    "sns.countplot(x='label', data=df_full)\n",
    "plt.title('Class distribution (bots vs human)')\n",
    "plt.show()\n",
    "    "
   ]
  },
  {
   "cell_type": "markdown",
   "id": "4a005738",
   "metadata": {},
   "source": [
    "There's an obvious unbalance. Later, we have to bear in mind this to develop the model.\n",
    "\n",
    "Now, I will check outliers in important columns."
   ]
  },
  {
   "cell_type": "code",
   "execution_count": 38,
   "id": "0f6ff171",
   "metadata": {},
   "outputs": [
    {
     "data": {
      "image/png": "[encoded data removed]",
      "text/plain": [
       "<Figure size 1200x400 with 2 Axes>"
      ]
     },
     "metadata": {},
     "output_type": "display_data"
    },
    {
     "data": {
      "image/png": "[encoded data removed]",
      "text/plain": [
       "<Figure size 1200x400 with 2 Axes>"
      ]
     },
     "metadata": {},
     "output_type": "display_data"
    },
    {
     "data": {
      "image/png": "[encoded data removed]",
      "text/plain": [
       "<Figure size 1200x400 with 2 Axes>"
      ]
     },
     "metadata": {},
     "output_type": "display_data"
    }
   ],
   "source": [
    "cols_to_plot = ['followers_count','friends_count','statuses_count']\n",
    "\n",
    "for col in cols_to_plot:\n",
    "    plt.figure(figsize=(12,4))\n",
    "    # Hist\n",
    "    plt.subplot(1,2,1)\n",
    "    sns.histplot(df_full[col], bins=100, kde=True)\n",
    "    plt.title(f'Distribution of {col}')\n",
    "    plt.xscale('log')\n",
    "    plt.xlabel(col)\n",
    "    \n",
    "    #Boxplot \n",
    "    plt.subplot(1,2,2)\n",
    "    sns.boxplot(x=df_full[col])\n",
    "    plt.xscale('log')\n",
    "    plt.title(f'Boxplot of {col}')\n",
    "    \n",
    "    plt.tight_layout()\n",
    "    plt.show()"
   ]
  },
  {
   "cell_type": "markdown",
   "id": "3b14c1fa",
   "metadata": {},
   "source": [
    "There are some outliers. I will create some thresholds to filter the data."
   ]
  },
  {
   "cell_type": "code",
   "execution_count": 39,
   "id": "ec0ba8a6",
   "metadata": {},
   "outputs": [],
   "source": [
    "# Setting up the threshold.\n",
    "thresholds = {\n",
    "    'friends_count' : df_full['friends_count'].quantile(0.99),\n",
    "    'statuses_count' : df_full['statuses_count'].quantile(0.99),\n",
    "    'followers_count' : df_full['followers_count'].quantile(0.99)\n",
    "}\n",
    "# Applying.\n",
    "for col, th in thresholds.items():\n",
    "    df_full[col] = df_full[col].clip(upper=th)\n"
   ]
  },
  {
   "cell_type": "markdown",
   "id": "ad322607",
   "metadata": {},
   "source": [
    "## Feature engineering"
   ]
  }
 ],
 "metadata": {
  "kernelspec": {
   "display_name": "ML",
   "language": "python",
   "name": "python3"
  },
  "language_info": {
   "codemirror_mode": {
    "name": "ipython",
    "version": 3
   },
   "file_extension": ".py",
   "mimetype": "text/x-python",
   "name": "python",
   "nbconvert_exporter": "python",
   "pygments_lexer": "ipython3",
   "version": "3.12.9"
  }
 },
 "nbformat": 4,
 "nbformat_minor": 5
}
